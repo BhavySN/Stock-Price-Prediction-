{
 "cells": [
  {
   "cell_type": "code",
   "execution_count": 1,
   "id": "69d33418",
   "metadata": {},
   "outputs": [],
   "source": [
    "import pandas as pd\n",
    "import matplotlib.pyplot as plt\n",
    "import numpy as np\n",
    "from sklearn.model_selection import train_test_split\n",
    "from sklearn.metrics import r2_score,confusion_matrix\n",
    "from sklearn.preprocessing import MinMaxScaler"
   ]
  },
  {
   "cell_type": "code",
   "execution_count": 2,
   "id": "ab7e5318",
   "metadata": {},
   "outputs": [],
   "source": [
    "data = pd.read_csv(\"TSLA.csv\")"
   ]
  },
  {
   "cell_type": "code",
   "execution_count": 3,
   "id": "b242f21a",
   "metadata": {},
   "outputs": [
    {
     "data": {
      "text/html": [
       "<div>\n",
       "<style scoped>\n",
       "    .dataframe tbody tr th:only-of-type {\n",
       "        vertical-align: middle;\n",
       "    }\n",
       "\n",
       "    .dataframe tbody tr th {\n",
       "        vertical-align: top;\n",
       "    }\n",
       "\n",
       "    .dataframe thead th {\n",
       "        text-align: right;\n",
       "    }\n",
       "</style>\n",
       "<table border=\"1\" class=\"dataframe\">\n",
       "  <thead>\n",
       "    <tr style=\"text-align: right;\">\n",
       "      <th></th>\n",
       "      <th>Date</th>\n",
       "      <th>Open</th>\n",
       "      <th>High</th>\n",
       "      <th>Low</th>\n",
       "      <th>Close</th>\n",
       "      <th>Adj Close</th>\n",
       "      <th>Volume</th>\n",
       "    </tr>\n",
       "  </thead>\n",
       "  <tbody>\n",
       "    <tr>\n",
       "      <th>0</th>\n",
       "      <td>2010-06-29</td>\n",
       "      <td>19.000000</td>\n",
       "      <td>25.000000</td>\n",
       "      <td>17.540001</td>\n",
       "      <td>23.889999</td>\n",
       "      <td>23.889999</td>\n",
       "      <td>18766300</td>\n",
       "    </tr>\n",
       "    <tr>\n",
       "      <th>1</th>\n",
       "      <td>2010-06-30</td>\n",
       "      <td>25.790001</td>\n",
       "      <td>30.420000</td>\n",
       "      <td>23.299999</td>\n",
       "      <td>23.830000</td>\n",
       "      <td>23.830000</td>\n",
       "      <td>17187100</td>\n",
       "    </tr>\n",
       "    <tr>\n",
       "      <th>2</th>\n",
       "      <td>2010-07-01</td>\n",
       "      <td>25.000000</td>\n",
       "      <td>25.920000</td>\n",
       "      <td>20.270000</td>\n",
       "      <td>21.959999</td>\n",
       "      <td>21.959999</td>\n",
       "      <td>8218800</td>\n",
       "    </tr>\n",
       "    <tr>\n",
       "      <th>3</th>\n",
       "      <td>2010-07-02</td>\n",
       "      <td>23.000000</td>\n",
       "      <td>23.100000</td>\n",
       "      <td>18.709999</td>\n",
       "      <td>19.200001</td>\n",
       "      <td>19.200001</td>\n",
       "      <td>5139800</td>\n",
       "    </tr>\n",
       "    <tr>\n",
       "      <th>4</th>\n",
       "      <td>2010-07-06</td>\n",
       "      <td>20.000000</td>\n",
       "      <td>20.000000</td>\n",
       "      <td>15.830000</td>\n",
       "      <td>16.110001</td>\n",
       "      <td>16.110001</td>\n",
       "      <td>6866900</td>\n",
       "    </tr>\n",
       "    <tr>\n",
       "      <th>...</th>\n",
       "      <td>...</td>\n",
       "      <td>...</td>\n",
       "      <td>...</td>\n",
       "      <td>...</td>\n",
       "      <td>...</td>\n",
       "      <td>...</td>\n",
       "      <td>...</td>\n",
       "    </tr>\n",
       "    <tr>\n",
       "      <th>2411</th>\n",
       "      <td>2020-01-28</td>\n",
       "      <td>568.489990</td>\n",
       "      <td>576.809998</td>\n",
       "      <td>558.080017</td>\n",
       "      <td>566.900024</td>\n",
       "      <td>566.900024</td>\n",
       "      <td>11788500</td>\n",
       "    </tr>\n",
       "    <tr>\n",
       "      <th>2412</th>\n",
       "      <td>2020-01-29</td>\n",
       "      <td>575.690002</td>\n",
       "      <td>589.799988</td>\n",
       "      <td>567.429993</td>\n",
       "      <td>580.989990</td>\n",
       "      <td>580.989990</td>\n",
       "      <td>17801500</td>\n",
       "    </tr>\n",
       "    <tr>\n",
       "      <th>2413</th>\n",
       "      <td>2020-01-30</td>\n",
       "      <td>632.419983</td>\n",
       "      <td>650.880005</td>\n",
       "      <td>618.000000</td>\n",
       "      <td>640.809998</td>\n",
       "      <td>640.809998</td>\n",
       "      <td>29005700</td>\n",
       "    </tr>\n",
       "    <tr>\n",
       "      <th>2414</th>\n",
       "      <td>2020-01-31</td>\n",
       "      <td>640.000000</td>\n",
       "      <td>653.000000</td>\n",
       "      <td>632.520020</td>\n",
       "      <td>650.570007</td>\n",
       "      <td>650.570007</td>\n",
       "      <td>15719300</td>\n",
       "    </tr>\n",
       "    <tr>\n",
       "      <th>2415</th>\n",
       "      <td>2020-02-03</td>\n",
       "      <td>673.690002</td>\n",
       "      <td>786.140015</td>\n",
       "      <td>673.520020</td>\n",
       "      <td>780.000000</td>\n",
       "      <td>780.000000</td>\n",
       "      <td>47065000</td>\n",
       "    </tr>\n",
       "  </tbody>\n",
       "</table>\n",
       "<p>2416 rows × 7 columns</p>\n",
       "</div>"
      ],
      "text/plain": [
       "            Date        Open        High         Low       Close   Adj Close  \\\n",
       "0     2010-06-29   19.000000   25.000000   17.540001   23.889999   23.889999   \n",
       "1     2010-06-30   25.790001   30.420000   23.299999   23.830000   23.830000   \n",
       "2     2010-07-01   25.000000   25.920000   20.270000   21.959999   21.959999   \n",
       "3     2010-07-02   23.000000   23.100000   18.709999   19.200001   19.200001   \n",
       "4     2010-07-06   20.000000   20.000000   15.830000   16.110001   16.110001   \n",
       "...          ...         ...         ...         ...         ...         ...   \n",
       "2411  2020-01-28  568.489990  576.809998  558.080017  566.900024  566.900024   \n",
       "2412  2020-01-29  575.690002  589.799988  567.429993  580.989990  580.989990   \n",
       "2413  2020-01-30  632.419983  650.880005  618.000000  640.809998  640.809998   \n",
       "2414  2020-01-31  640.000000  653.000000  632.520020  650.570007  650.570007   \n",
       "2415  2020-02-03  673.690002  786.140015  673.520020  780.000000  780.000000   \n",
       "\n",
       "        Volume  \n",
       "0     18766300  \n",
       "1     17187100  \n",
       "2      8218800  \n",
       "3      5139800  \n",
       "4      6866900  \n",
       "...        ...  \n",
       "2411  11788500  \n",
       "2412  17801500  \n",
       "2413  29005700  \n",
       "2414  15719300  \n",
       "2415  47065000  \n",
       "\n",
       "[2416 rows x 7 columns]"
      ]
     },
     "execution_count": 3,
     "metadata": {},
     "output_type": "execute_result"
    }
   ],
   "source": [
    "data"
   ]
  },
  {
   "cell_type": "code",
   "execution_count": 4,
   "id": "4b12b02c",
   "metadata": {},
   "outputs": [
    {
     "data": {
      "text/plain": [
       "(2416,)"
      ]
     },
     "execution_count": 4,
     "metadata": {},
     "output_type": "execute_result"
    }
   ],
   "source": [
    "df = data[\"Close\"]\n",
    "df.shape"
   ]
  },
  {
   "cell_type": "code",
   "execution_count": 5,
   "id": "36545c84",
   "metadata": {},
   "outputs": [
    {
     "name": "stdout",
     "output_type": "stream",
     "text": [
      "0    23.889999\n",
      "1    23.830000\n",
      "2    21.959999\n",
      "3    19.200001\n",
      "4    16.110001\n",
      "Name: Close, dtype: float64\n"
     ]
    }
   ],
   "source": [
    "print(df.head()) "
   ]
  },
  {
   "cell_type": "code",
   "execution_count": 6,
   "id": "d7d08bbb",
   "metadata": {},
   "outputs": [
    {
     "name": "stdout",
     "output_type": "stream",
     "text": [
      "2411    566.900024\n",
      "2412    580.989990\n",
      "2413    640.809998\n",
      "2414    650.570007\n",
      "2415    780.000000\n",
      "Name: Close, dtype: float64\n"
     ]
    }
   ],
   "source": [
    "print(df.tail())"
   ]
  },
  {
   "cell_type": "code",
   "execution_count": 7,
   "id": "a9aba7a2",
   "metadata": {},
   "outputs": [
    {
     "data": {
      "text/plain": [
       "[<matplotlib.lines.Line2D at 0x29640521b80>]"
      ]
     },
     "execution_count": 7,
     "metadata": {},
     "output_type": "execute_result"
    },
    {
     "data": {
      "image/png": "[encoded data removed]",
      "text/plain": [
       "<Figure size 432x288 with 1 Axes>"
      ]
     },
     "metadata": {
      "needs_background": "light"
     },
     "output_type": "display_data"
    }
   ],
   "source": [
    "plt.plot(df)"
   ]
  },
  {
   "cell_type": "code",
   "execution_count": 8,
   "id": "ef69e8a2",
   "metadata": {},
   "outputs": [],
   "source": [
    "#scaling the values using min max scaler\n",
    "scaler = MinMaxScaler(feature_range=(0,1))\n",
    "df=scaler.fit_transform(np.array(df).reshape(-1,1))"
   ]
  },
  {
   "cell_type": "code",
   "execution_count": 9,
   "id": "aff8ecf1",
   "metadata": {},
   "outputs": [],
   "source": [
    "#data splitting \n",
    "train_size = int(len(df)*0.65)\n",
    "test_size = int(len(df))-train_size\n",
    "train_data,test_data = df[0:train_size:,:] , df[train_size:len(df),:]"
   ]
  },
  {
   "cell_type": "code",
   "execution_count": 10,
   "id": "f3c47d97",
   "metadata": {},
   "outputs": [
    {
     "data": {
      "text/plain": [
       "(1570, 846, 2416)"
      ]
     },
     "execution_count": 10,
     "metadata": {},
     "output_type": "execute_result"
    }
   ],
   "source": [
    "train_size, test_size,df.size\n"
   ]
  },
  {
   "cell_type": "code",
   "execution_count": 11,
   "id": "50194887",
   "metadata": {},
   "outputs": [
    {
     "name": "stdout",
     "output_type": "stream",
     "text": [
      "(1570, 1)\n",
      "(846, 1)\n"
     ]
    },
    {
     "data": {
      "text/plain": [
       "(None, None)"
      ]
     },
     "execution_count": 11,
     "metadata": {},
     "output_type": "execute_result"
    }
   ],
   "source": [
    "print(train_data.shape) , print(test_data.shape)"
   ]
  },
  {
   "cell_type": "code",
   "execution_count": 12,
   "id": "152f76d6",
   "metadata": {},
   "outputs": [],
   "source": [
    "def create_dataset(dataset , time_step):\n",
    "    dataX,dataY = [] , []\n",
    "    for i in range(len(dataset)-time_step-1):\n",
    "        a = dataset[i:i+(time_step),0]\n",
    "        dataX.append(a)\n",
    "        dataY.append(dataset[i+time_step,0])\n",
    "    return np.array(dataX) , np.array(dataY)"
   ]
  },
  {
   "cell_type": "code",
   "execution_count": 13,
   "id": "eb8cc608",
   "metadata": {},
   "outputs": [],
   "source": [
    "time_step = 100\n",
    "X_train , Y_train = create_dataset(train_data,time_step)\n",
    "X_test , Y_test = create_dataset(test_data,time_step)\n"
   ]
  },
  {
   "cell_type": "code",
   "execution_count": 14,
   "id": "dd5caa29",
   "metadata": {},
   "outputs": [
    {
     "name": "stdout",
     "output_type": "stream",
     "text": [
      "(1469, 100)\n",
      "(1469,)\n"
     ]
    },
    {
     "data": {
      "text/plain": [
       "(None, None)"
      ]
     },
     "execution_count": 14,
     "metadata": {},
     "output_type": "execute_result"
    }
   ],
   "source": [
    "print(X_train.shape), print(Y_train.shape)"
   ]
  },
  {
   "cell_type": "code",
   "execution_count": 15,
   "id": "87062ff9",
   "metadata": {},
   "outputs": [],
   "source": [
    "# reshape input to be [samples, time steps, features] which is required for LSTM\n",
    "X_train =X_train.reshape(X_train.shape[0],X_train.shape[1] , 1)\n",
    "X_test = X_test.reshape(X_test.shape[0],X_test.shape[1] , 1)\n"
   ]
  },
  {
   "cell_type": "code",
   "execution_count": 16,
   "id": "b375e4a5",
   "metadata": {},
   "outputs": [],
   "source": [
    "### Create the Stacked LSTM model\n",
    "from tensorflow.keras.models import Sequential\n",
    "from tensorflow.keras.layers import Dense\n",
    "from tensorflow.keras.layers import LSTM"
   ]
  },
  {
   "cell_type": "code",
   "execution_count": 17,
   "id": "46c5c21f",
   "metadata": {},
   "outputs": [
    {
     "name": "stdout",
     "output_type": "stream",
     "text": [
      "Model: \"sequential\"\n",
      "_________________________________________________________________\n",
      " Layer (type)                Output Shape              Param #   \n",
      "=================================================================\n",
      " lstm (LSTM)                 (None, 100, 50)           10400     \n",
      "                                                                 \n",
      " lstm_1 (LSTM)               (None, 100, 50)           20200     \n",
      "                                                                 \n",
      " lstm_2 (LSTM)               (None, 50)                20200     \n",
      "                                                                 \n",
      " dense (Dense)               (None, 1)                 51        \n",
      "                                                                 \n",
      "=================================================================\n",
      "Total params: 50,851\n",
      "Trainable params: 50,851\n",
      "Non-trainable params: 0\n",
      "_________________________________________________________________\n"
     ]
    }
   ],
   "source": [
    "model=Sequential()\n",
    "model.add(LSTM(50,return_sequences=True,input_shape=(100,1)))\n",
    "model.add(LSTM(50,return_sequences=True))\n",
    "model.add(LSTM(50))\n",
    "model.add(Dense(1))\n",
    "model.compile(loss='mean_squared_error',optimizer='adam')\n",
    "\n",
    "model.summary()"
   ]
  },
  {
   "cell_type": "code",
   "execution_count": 53,
   "id": "104f037d",
   "metadata": {},
   "outputs": [
    {
     "name": "stdout",
     "output_type": "stream",
     "text": [
      "Epoch 1/50\n",
      "23/23 [==============================] - 5s 217ms/step - loss: 1.8062e-04 - val_loss: 0.0020\n",
      "Epoch 2/50\n",
      "23/23 [==============================] - 5s 221ms/step - loss: 1.6633e-04 - val_loss: 0.0021\n",
      "Epoch 3/50\n",
      "23/23 [==============================] - 5s 214ms/step - loss: 1.6914e-04 - val_loss: 0.0023\n",
      "Epoch 4/50\n",
      "23/23 [==============================] - 5s 239ms/step - loss: 1.7333e-04 - val_loss: 0.0018\n",
      "Epoch 5/50\n",
      "23/23 [==============================] - 5s 227ms/step - loss: 1.5456e-04 - val_loss: 0.0026\n",
      "Epoch 6/50\n",
      "23/23 [==============================] - 5s 221ms/step - loss: 1.5636e-04 - val_loss: 0.0020\n",
      "Epoch 7/50\n",
      "23/23 [==============================] - 5s 238ms/step - loss: 1.6316e-04 - val_loss: 0.0019\n",
      "Epoch 8/50\n",
      "23/23 [==============================] - 7s 294ms/step - loss: 1.5323e-04 - val_loss: 0.0016\n",
      "Epoch 9/50\n",
      "23/23 [==============================] - 4s 165ms/step - loss: 1.4295e-04 - val_loss: 0.0017\n",
      "Epoch 10/50\n",
      "23/23 [==============================] - 4s 168ms/step - loss: 1.5161e-04 - val_loss: 9.6826e-04\n",
      "Epoch 11/50\n",
      "23/23 [==============================] - 4s 177ms/step - loss: 1.6400e-04 - val_loss: 9.8574e-04\n",
      "Epoch 12/50\n",
      "23/23 [==============================] - 4s 194ms/step - loss: 1.5822e-04 - val_loss: 0.0012\n",
      "Epoch 13/50\n",
      "23/23 [==============================] - 4s 180ms/step - loss: 1.4321e-04 - val_loss: 0.0013\n",
      "Epoch 14/50\n",
      "23/23 [==============================] - 4s 172ms/step - loss: 1.3683e-04 - val_loss: 0.0018\n",
      "Epoch 15/50\n",
      "23/23 [==============================] - 4s 186ms/step - loss: 1.5962e-04 - val_loss: 0.0019\n",
      "Epoch 16/50\n",
      "23/23 [==============================] - 5s 236ms/step - loss: 1.3209e-04 - val_loss: 0.0012\n",
      "Epoch 17/50\n",
      "23/23 [==============================] - 5s 206ms/step - loss: 1.5265e-04 - val_loss: 0.0012\n",
      "Epoch 18/50\n",
      "23/23 [==============================] - 5s 202ms/step - loss: 1.5355e-04 - val_loss: 0.0010\n",
      "Epoch 19/50\n",
      "23/23 [==============================] - 4s 194ms/step - loss: 1.4332e-04 - val_loss: 8.9758e-04\n",
      "Epoch 20/50\n",
      "23/23 [==============================] - 4s 180ms/step - loss: 1.4408e-04 - val_loss: 9.8781e-04\n",
      "Epoch 21/50\n",
      "23/23 [==============================] - 4s 175ms/step - loss: 1.2659e-04 - val_loss: 0.0013\n",
      "Epoch 22/50\n",
      "23/23 [==============================] - 4s 169ms/step - loss: 1.3024e-04 - val_loss: 0.0012\n",
      "Epoch 23/50\n",
      "23/23 [==============================] - 4s 187ms/step - loss: 1.2643e-04 - val_loss: 9.8664e-04\n",
      "Epoch 24/50\n",
      "23/23 [==============================] - 4s 178ms/step - loss: 1.2316e-04 - val_loss: 0.0011\n",
      "Epoch 25/50\n",
      "23/23 [==============================] - 4s 172ms/step - loss: 1.2119e-04 - val_loss: 0.0010\n",
      "Epoch 26/50\n",
      "23/23 [==============================] - 4s 177ms/step - loss: 1.3112e-04 - val_loss: 0.0012\n",
      "Epoch 27/50\n",
      "23/23 [==============================] - 4s 193ms/step - loss: 1.1739e-04 - val_loss: 7.2572e-04\n",
      "Epoch 28/50\n",
      "23/23 [==============================] - 4s 178ms/step - loss: 1.2479e-04 - val_loss: 0.0016\n",
      "Epoch 29/50\n",
      "23/23 [==============================] - 4s 176ms/step - loss: 1.4700e-04 - val_loss: 6.7538e-04\n",
      "Epoch 30/50\n",
      "23/23 [==============================] - 4s 172ms/step - loss: 1.2904e-04 - val_loss: 6.7816e-04\n",
      "Epoch 31/50\n",
      "23/23 [==============================] - 4s 195ms/step - loss: 1.2074e-04 - val_loss: 9.9771e-04\n",
      "Epoch 32/50\n",
      "23/23 [==============================] - 4s 179ms/step - loss: 1.1187e-04 - val_loss: 0.0013\n",
      "Epoch 33/50\n",
      "23/23 [==============================] - 4s 172ms/step - loss: 1.1426e-04 - val_loss: 0.0011\n",
      "Epoch 34/50\n",
      "23/23 [==============================] - 4s 174ms/step - loss: 1.0785e-04 - val_loss: 9.1125e-04\n",
      "Epoch 35/50\n",
      "23/23 [==============================] - 4s 190ms/step - loss: 1.0424e-04 - val_loss: 8.1586e-04\n",
      "Epoch 36/50\n",
      "23/23 [==============================] - 4s 179ms/step - loss: 1.1567e-04 - val_loss: 5.6130e-04\n",
      "Epoch 37/50\n",
      "23/23 [==============================] - 4s 172ms/step - loss: 1.0716e-04 - val_loss: 7.1161e-04\n",
      "Epoch 38/50\n",
      "23/23 [==============================] - 4s 177ms/step - loss: 1.0337e-04 - val_loss: 6.0391e-04\n",
      "Epoch 39/50\n",
      "23/23 [==============================] - 4s 185ms/step - loss: 1.2387e-04 - val_loss: 5.8883e-04\n",
      "Epoch 40/50\n",
      "23/23 [==============================] - 4s 176ms/step - loss: 1.0197e-04 - val_loss: 6.8796e-04\n",
      "Epoch 41/50\n",
      "23/23 [==============================] - 4s 178ms/step - loss: 1.0627e-04 - val_loss: 7.6347e-04\n",
      "Epoch 42/50\n",
      "23/23 [==============================] - 4s 179ms/step - loss: 1.0185e-04 - val_loss: 8.1568e-04\n",
      "Epoch 43/50\n",
      "23/23 [==============================] - 4s 184ms/step - loss: 1.1188e-04 - val_loss: 7.6163e-04\n",
      "Epoch 44/50\n",
      "23/23 [==============================] - 4s 175ms/step - loss: 9.9169e-05 - val_loss: 8.9557e-04\n",
      "Epoch 45/50\n",
      "23/23 [==============================] - 4s 176ms/step - loss: 1.0462e-04 - val_loss: 9.6458e-04\n",
      "Epoch 46/50\n",
      "23/23 [==============================] - 5s 199ms/step - loss: 1.0817e-04 - val_loss: 6.7766e-04\n",
      "Epoch 47/50\n",
      "23/23 [==============================] - 4s 183ms/step - loss: 9.9353e-05 - val_loss: 4.5946e-04\n",
      "Epoch 48/50\n",
      "23/23 [==============================] - 4s 175ms/step - loss: 9.7723e-05 - val_loss: 7.0894e-04\n",
      "Epoch 49/50\n",
      "23/23 [==============================] - 4s 174ms/step - loss: 9.9474e-05 - val_loss: 6.5096e-04\n",
      "Epoch 50/50\n",
      "23/23 [==============================] - 4s 182ms/step - loss: 8.8955e-05 - val_loss: 5.1525e-04\n"
     ]
    },
    {
     "data": {
      "text/plain": [
       "<keras.callbacks.History at 0x29656ef8d00>"
      ]
     },
     "execution_count": 53,
     "metadata": {},
     "output_type": "execute_result"
    }
   ],
   "source": [
    "model.fit(X_train,Y_train,validation_data=(X_test,Y_test),epochs=50,batch_size=64,verbose=1)"
   ]
  },
  {
   "cell_type": "code",
   "execution_count": 54,
   "id": "e78ba902",
   "metadata": {},
   "outputs": [],
   "source": [
    "import tensorflow as tf"
   ]
  },
  {
   "cell_type": "code",
   "execution_count": 55,
   "id": "82e625f3",
   "metadata": {},
   "outputs": [],
   "source": [
    "train_predict=model.predict(X_train)\n",
    "test_predict=model.predict(X_test)"
   ]
  },
  {
   "cell_type": "code",
   "execution_count": 56,
   "id": "ef5d8b9f",
   "metadata": {},
   "outputs": [],
   "source": [
    "##Transformback to original form\n",
    "train_predict=scaler.inverse_transform(train_predict)\n",
    "test_predict=scaler.inverse_transform(test_predict)"
   ]
  },
  {
   "cell_type": "code",
   "execution_count": 57,
   "id": "a7d6403e",
   "metadata": {},
   "outputs": [
    {
     "data": {
      "text/plain": [
       "163.35427096457292"
      ]
     },
     "execution_count": 57,
     "metadata": {},
     "output_type": "execute_result"
    }
   ],
   "source": [
    "### Calculate RMSE performance metrics\n",
    "import math\n",
    "from sklearn.metrics import mean_squared_error\n",
    "math.sqrt(mean_squared_error(Y_train,train_predict))"
   ]
  },
  {
   "cell_type": "code",
   "execution_count": 58,
   "id": "7e3d44e9",
   "metadata": {},
   "outputs": [
    {
     "data": {
      "text/plain": [
       "307.5108652889966"
      ]
     },
     "execution_count": 58,
     "metadata": {},
     "output_type": "execute_result"
    }
   ],
   "source": [
    "### Test Data RMSE\n",
    "math.sqrt(mean_squared_error(Y_test,test_predict))"
   ]
  },
  {
   "cell_type": "code",
   "execution_count": 59,
   "id": "21251cf4",
   "metadata": {},
   "outputs": [
    {
     "data": {
      "image/png": "[encoded data removed]",
      "text/plain": [
       "<Figure size 432x288 with 1 Axes>"
      ]
     },
     "metadata": {
      "needs_background": "light"
     },
     "output_type": "display_data"
    }
   ],
   "source": [
    "### Plotting \n",
    "# shift train predictions for plotting\n",
    "look_back=100\n",
    "trainPredictPlot = np.empty_like(df)\n",
    "trainPredictPlot[:, :] = np.nan\n",
    "trainPredictPlot[look_back:len(train_predict)+look_back, :] = train_predict\n",
    "# shift test predictions for plotting\n",
    "testPredictPlot = np.empty_like(df)\n",
    "testPredictPlot[:, :] = np.nan\n",
    "testPredictPlot[len(train_predict)+(look_back*2)+1:len(df)-1, :] = test_predict\n",
    "# plot baseline and predictions\n",
    "plt.plot(scaler.inverse_transform(df))\n",
    "plt.plot(trainPredictPlot)\n",
    "plt.plot(testPredictPlot)\n",
    "plt.show()"
   ]
  },
  {
   "cell_type": "code",
   "execution_count": 60,
   "id": "b3cf77e5",
   "metadata": {},
   "outputs": [
    {
     "data": {
      "text/plain": [
       "846"
      ]
     },
     "execution_count": 60,
     "metadata": {},
     "output_type": "execute_result"
    }
   ],
   "source": [
    "len(test_data)"
   ]
  },
  {
   "cell_type": "code",
   "execution_count": 61,
   "id": "276e2a39",
   "metadata": {},
   "outputs": [
    {
     "data": {
      "text/plain": [
       "(1, 100)"
      ]
     },
     "execution_count": 61,
     "metadata": {},
     "output_type": "execute_result"
    }
   ],
   "source": [
    "x_input=test_data[746:].reshape(1,-1)\n",
    "x_input.shape"
   ]
  },
  {
   "cell_type": "code",
   "execution_count": 62,
   "id": "2c700d9d",
   "metadata": {},
   "outputs": [],
   "source": [
    "temp_input=list(x_input)\n",
    "temp_input=temp_input[0].tolist()"
   ]
  },
  {
   "cell_type": "code",
   "execution_count": 63,
   "id": "565cd54a",
   "metadata": {
    "collapsed": true
   },
   "outputs": [
    {
     "data": {
      "text/plain": [
       "[0.3026694661083486,\n",
       " 0.30105992541219573,\n",
       " 0.3001831941900026,\n",
       " 0.2970557419523685,\n",
       " 0.2996466801884323,\n",
       " 0.2979455705312745,\n",
       " 0.30201518712378955,\n",
       " 0.29418999607432605,\n",
       " 0.29498821774404604,\n",
       " 0.27140801753467675,\n",
       " 0.27859198769955507,\n",
       " 0.296728602460089,\n",
       " 0.296165931693274,\n",
       " 0.2945171355666056,\n",
       " 0.2995158361685422,\n",
       " 0.29747448966239204,\n",
       " 0.2842580463229521,\n",
       " 0.2821643457210154,\n",
       " 0.2903951858152316,\n",
       " 0.29344412850039253,\n",
       " 0.29930646296780944,\n",
       " 0.29958126799267204,\n",
       " 0.303703217744046,\n",
       " 0.31557182805548284,\n",
       " 0.3167888183721539,\n",
       " 0.3192227165663439,\n",
       " 0.3221277165663439,\n",
       " 0.315558769955509,\n",
       " 0.31104422925935615,\n",
       " 0.3137660324522376,\n",
       " 0.31258831850300967,\n",
       " 0.37147342711332115,\n",
       " 0.4087019170374247,\n",
       " 0.4081523043705836,\n",
       " 0.3931169863909971,\n",
       " 0.391533643025386,\n",
       " 0.39141587673383926,\n",
       " 0.3893090787751897,\n",
       " 0.39475268385239465,\n",
       " 0.3944255443601152,\n",
       " 0.40667362863124834,\n",
       " 0.41839833682282124,\n",
       " 0.4204920374247579,\n",
       " 0.43089504841664483,\n",
       " 0.43722846506150226,\n",
       " 0.4322297631510076,\n",
       " 0.43646951845066734,\n",
       " 0.440159661083486,\n",
       " 0.43730697461397533,\n",
       " 0.44977753075111226,\n",
       " 0.44022507327924626,\n",
       " 0.44364039125883276,\n",
       " 0.41512694190002614,\n",
       " 0.41944516618686206,\n",
       " 0.4097356883014917,\n",
       " 0.4128369654540696,\n",
       " 0.41107040303585446,\n",
       " 0.4175215846637006,\n",
       " 0.41926198900811307,\n",
       " 0.41511384323475525,\n",
       " 0.41163307380266945,\n",
       " 0.41885633996336036,\n",
       " 0.42361947003402245,\n",
       " 0.43580214080083746,\n",
       " 0.44085319549856056,\n",
       " 0.449986905260403,\n",
       " 0.4482988942685161,\n",
       " 0.47853964930646425,\n",
       " 0.47525515571839827,\n",
       " 0.4937843417953415,\n",
       " 0.5080345577074064,\n",
       " 0.5100628055482858,\n",
       " 0.5278984572101544,\n",
       " 0.5357890604553781,\n",
       " 0.5432347579167757,\n",
       " 0.5425019693797435,\n",
       " 0.5219837895838786,\n",
       " 0.5267338222978278,\n",
       " 0.5423449489662392,\n",
       " 0.5590290630724941,\n",
       " 0.5701910612405129,\n",
       " 0.5931169824653232,\n",
       " 0.6233185226380529,\n",
       " 0.6091860717089767,\n",
       " 0.6050117691703742,\n",
       " 0.6661345001308558,\n",
       " 0.6832242645904213,\n",
       " 0.6578120910756347,\n",
       " 0.6512562025647736,\n",
       " 0.6473436273226904,\n",
       " 0.6953677204920178,\n",
       " 0.7246270583616853,\n",
       " 0.7280816697199686,\n",
       " 0.7184245053650876,\n",
       " 0.7095263281863387,\n",
       " 0.7211463281863386,\n",
       " 0.7395838654802408,\n",
       " 0.817861813661345,\n",
       " 0.8306333512169589,\n",
       " 1.0]"
      ]
     },
     "execution_count": 63,
     "metadata": {},
     "output_type": "execute_result"
    }
   ],
   "source": [
    "temp_input"
   ]
  },
  {
   "cell_type": "code",
   "execution_count": 64,
   "id": "2a837a41",
   "metadata": {
    "collapsed": true
   },
   "outputs": [
    {
     "name": "stdout",
     "output_type": "stream",
     "text": [
      "[0.77394384]\n",
      "101\n",
      "1 day input [0.30105993 0.30018319 0.29705574 0.29964668 0.29794557 0.30201519\n",
      " 0.29419    0.29498822 0.27140802 0.27859199 0.2967286  0.29616593\n",
      " 0.29451714 0.29951584 0.29747449 0.28425805 0.28216435 0.29039519\n",
      " 0.29344413 0.29930646 0.29958127 0.30370322 0.31557183 0.31678882\n",
      " 0.31922272 0.32212772 0.31555877 0.31104423 0.31376603 0.31258832\n",
      " 0.37147343 0.40870192 0.4081523  0.39311699 0.39153364 0.39141588\n",
      " 0.38930908 0.39475268 0.39442554 0.40667363 0.41839834 0.42049204\n",
      " 0.43089505 0.43722847 0.43222976 0.43646952 0.44015966 0.43730697\n",
      " 0.44977753 0.44022507 0.44364039 0.41512694 0.41944517 0.40973569\n",
      " 0.41283697 0.4110704  0.41752158 0.41926199 0.41511384 0.41163307\n",
      " 0.41885634 0.42361947 0.43580214 0.4408532  0.44998691 0.44829889\n",
      " 0.47853965 0.47525516 0.49378434 0.50803456 0.51006281 0.52789846\n",
      " 0.53578906 0.54323476 0.54250197 0.52198379 0.52673382 0.54234495\n",
      " 0.55902906 0.57019106 0.59311698 0.62331852 0.60918607 0.60501177\n",
      " 0.6661345  0.68322426 0.65781209 0.6512562  0.64734363 0.69536772\n",
      " 0.72462706 0.72808167 0.71842451 0.70952633 0.72114633 0.73958387\n",
      " 0.81786181 0.83063335 1.         0.77394384]\n",
      "1 day output [[0.79206234]]\n",
      "2 day input [0.30018319 0.29705574 0.29964668 0.29794557 0.30201519 0.29419\n",
      " 0.29498822 0.27140802 0.27859199 0.2967286  0.29616593 0.29451714\n",
      " 0.29951584 0.29747449 0.28425805 0.28216435 0.29039519 0.29344413\n",
      " 0.29930646 0.29958127 0.30370322 0.31557183 0.31678882 0.31922272\n",
      " 0.32212772 0.31555877 0.31104423 0.31376603 0.31258832 0.37147343\n",
      " 0.40870192 0.4081523  0.39311699 0.39153364 0.39141588 0.38930908\n",
      " 0.39475268 0.39442554 0.40667363 0.41839834 0.42049204 0.43089505\n",
      " 0.43722847 0.43222976 0.43646952 0.44015966 0.43730697 0.44977753\n",
      " 0.44022507 0.44364039 0.41512694 0.41944517 0.40973569 0.41283697\n",
      " 0.4110704  0.41752158 0.41926199 0.41511384 0.41163307 0.41885634\n",
      " 0.42361947 0.43580214 0.4408532  0.44998691 0.44829889 0.47853965\n",
      " 0.47525516 0.49378434 0.50803456 0.51006281 0.52789846 0.53578906\n",
      " 0.54323476 0.54250197 0.52198379 0.52673382 0.54234495 0.55902906\n",
      " 0.57019106 0.59311698 0.62331852 0.60918607 0.60501177 0.6661345\n",
      " 0.68322426 0.65781209 0.6512562  0.64734363 0.69536772 0.72462706\n",
      " 0.72808167 0.71842451 0.70952633 0.72114633 0.73958387 0.81786181\n",
      " 0.83063335 1.         0.77394384 0.79206234]\n",
      "2 day output [[0.7787992]]\n",
      "3 day input [0.29705574 0.29964668 0.29794557 0.30201519 0.29419    0.29498822\n",
      " 0.27140802 0.27859199 0.2967286  0.29616593 0.29451714 0.29951584\n",
      " 0.29747449 0.28425805 0.28216435 0.29039519 0.29344413 0.29930646\n",
      " 0.29958127 0.30370322 0.31557183 0.31678882 0.31922272 0.32212772\n",
      " 0.31555877 0.31104423 0.31376603 0.31258832 0.37147343 0.40870192\n",
      " 0.4081523  0.39311699 0.39153364 0.39141588 0.38930908 0.39475268\n",
      " 0.39442554 0.40667363 0.41839834 0.42049204 0.43089505 0.43722847\n",
      " 0.43222976 0.43646952 0.44015966 0.43730697 0.44977753 0.44022507\n",
      " 0.44364039 0.41512694 0.41944517 0.40973569 0.41283697 0.4110704\n",
      " 0.41752158 0.41926199 0.41511384 0.41163307 0.41885634 0.42361947\n",
      " 0.43580214 0.4408532  0.44998691 0.44829889 0.47853965 0.47525516\n",
      " 0.49378434 0.50803456 0.51006281 0.52789846 0.53578906 0.54323476\n",
      " 0.54250197 0.52198379 0.52673382 0.54234495 0.55902906 0.57019106\n",
      " 0.59311698 0.62331852 0.60918607 0.60501177 0.6661345  0.68322426\n",
      " 0.65781209 0.6512562  0.64734363 0.69536772 0.72462706 0.72808167\n",
      " 0.71842451 0.70952633 0.72114633 0.73958387 0.81786181 0.83063335\n",
      " 1.         0.77394384 0.79206234 0.77879918]\n",
      "3 day output [[0.7492491]]\n",
      "4 day input [0.29964668 0.29794557 0.30201519 0.29419    0.29498822 0.27140802\n",
      " 0.27859199 0.2967286  0.29616593 0.29451714 0.29951584 0.29747449\n",
      " 0.28425805 0.28216435 0.29039519 0.29344413 0.29930646 0.29958127\n",
      " 0.30370322 0.31557183 0.31678882 0.31922272 0.32212772 0.31555877\n",
      " 0.31104423 0.31376603 0.31258832 0.37147343 0.40870192 0.4081523\n",
      " 0.39311699 0.39153364 0.39141588 0.38930908 0.39475268 0.39442554\n",
      " 0.40667363 0.41839834 0.42049204 0.43089505 0.43722847 0.43222976\n",
      " 0.43646952 0.44015966 0.43730697 0.44977753 0.44022507 0.44364039\n",
      " 0.41512694 0.41944517 0.40973569 0.41283697 0.4110704  0.41752158\n",
      " 0.41926199 0.41511384 0.41163307 0.41885634 0.42361947 0.43580214\n",
      " 0.4408532  0.44998691 0.44829889 0.47853965 0.47525516 0.49378434\n",
      " 0.50803456 0.51006281 0.52789846 0.53578906 0.54323476 0.54250197\n",
      " 0.52198379 0.52673382 0.54234495 0.55902906 0.57019106 0.59311698\n",
      " 0.62331852 0.60918607 0.60501177 0.6661345  0.68322426 0.65781209\n",
      " 0.6512562  0.64734363 0.69536772 0.72462706 0.72808167 0.71842451\n",
      " 0.70952633 0.72114633 0.73958387 0.81786181 0.83063335 1.\n",
      " 0.77394384 0.79206234 0.77879918 0.7492491 ]\n",
      "4 day output [[0.71311903]]\n",
      "5 day input [0.29794557 0.30201519 0.29419    0.29498822 0.27140802 0.27859199\n",
      " 0.2967286  0.29616593 0.29451714 0.29951584 0.29747449 0.28425805\n",
      " 0.28216435 0.29039519 0.29344413 0.29930646 0.29958127 0.30370322\n",
      " 0.31557183 0.31678882 0.31922272 0.32212772 0.31555877 0.31104423\n",
      " 0.31376603 0.31258832 0.37147343 0.40870192 0.4081523  0.39311699\n",
      " 0.39153364 0.39141588 0.38930908 0.39475268 0.39442554 0.40667363\n",
      " 0.41839834 0.42049204 0.43089505 0.43722847 0.43222976 0.43646952\n",
      " 0.44015966 0.43730697 0.44977753 0.44022507 0.44364039 0.41512694\n",
      " 0.41944517 0.40973569 0.41283697 0.4110704  0.41752158 0.41926199\n",
      " 0.41511384 0.41163307 0.41885634 0.42361947 0.43580214 0.4408532\n",
      " 0.44998691 0.44829889 0.47853965 0.47525516 0.49378434 0.50803456\n",
      " 0.51006281 0.52789846 0.53578906 0.54323476 0.54250197 0.52198379\n",
      " 0.52673382 0.54234495 0.55902906 0.57019106 0.59311698 0.62331852\n",
      " 0.60918607 0.60501177 0.6661345  0.68322426 0.65781209 0.6512562\n",
      " 0.64734363 0.69536772 0.72462706 0.72808167 0.71842451 0.70952633\n",
      " 0.72114633 0.73958387 0.81786181 0.83063335 1.         0.77394384\n",
      " 0.79206234 0.77879918 0.7492491  0.71311903]\n",
      "5 day output [[0.6752866]]\n",
      "6 day input [0.30201519 0.29419    0.29498822 0.27140802 0.27859199 0.2967286\n",
      " 0.29616593 0.29451714 0.29951584 0.29747449 0.28425805 0.28216435\n",
      " 0.29039519 0.29344413 0.29930646 0.29958127 0.30370322 0.31557183\n",
      " 0.31678882 0.31922272 0.32212772 0.31555877 0.31104423 0.31376603\n",
      " 0.31258832 0.37147343 0.40870192 0.4081523  0.39311699 0.39153364\n",
      " 0.39141588 0.38930908 0.39475268 0.39442554 0.40667363 0.41839834\n",
      " 0.42049204 0.43089505 0.43722847 0.43222976 0.43646952 0.44015966\n",
      " 0.43730697 0.44977753 0.44022507 0.44364039 0.41512694 0.41944517\n",
      " 0.40973569 0.41283697 0.4110704  0.41752158 0.41926199 0.41511384\n",
      " 0.41163307 0.41885634 0.42361947 0.43580214 0.4408532  0.44998691\n",
      " 0.44829889 0.47853965 0.47525516 0.49378434 0.50803456 0.51006281\n",
      " 0.52789846 0.53578906 0.54323476 0.54250197 0.52198379 0.52673382\n",
      " 0.54234495 0.55902906 0.57019106 0.59311698 0.62331852 0.60918607\n",
      " 0.60501177 0.6661345  0.68322426 0.65781209 0.6512562  0.64734363\n",
      " 0.69536772 0.72462706 0.72808167 0.71842451 0.70952633 0.72114633\n",
      " 0.73958387 0.81786181 0.83063335 1.         0.77394384 0.79206234\n",
      " 0.77879918 0.7492491  0.71311903 0.67528659]\n",
      "6 day output [[0.63800764]]\n",
      "7 day input [0.29419    0.29498822 0.27140802 0.27859199 0.2967286  0.29616593\n",
      " 0.29451714 0.29951584 0.29747449 0.28425805 0.28216435 0.29039519\n",
      " 0.29344413 0.29930646 0.29958127 0.30370322 0.31557183 0.31678882\n",
      " 0.31922272 0.32212772 0.31555877 0.31104423 0.31376603 0.31258832\n",
      " 0.37147343 0.40870192 0.4081523  0.39311699 0.39153364 0.39141588\n",
      " 0.38930908 0.39475268 0.39442554 0.40667363 0.41839834 0.42049204\n",
      " 0.43089505 0.43722847 0.43222976 0.43646952 0.44015966 0.43730697\n",
      " 0.44977753 0.44022507 0.44364039 0.41512694 0.41944517 0.40973569\n",
      " 0.41283697 0.4110704  0.41752158 0.41926199 0.41511384 0.41163307\n",
      " 0.41885634 0.42361947 0.43580214 0.4408532  0.44998691 0.44829889\n",
      " 0.47853965 0.47525516 0.49378434 0.50803456 0.51006281 0.52789846\n",
      " 0.53578906 0.54323476 0.54250197 0.52198379 0.52673382 0.54234495\n",
      " 0.55902906 0.57019106 0.59311698 0.62331852 0.60918607 0.60501177\n",
      " 0.6661345  0.68322426 0.65781209 0.6512562  0.64734363 0.69536772\n",
      " 0.72462706 0.72808167 0.71842451 0.70952633 0.72114633 0.73958387\n",
      " 0.81786181 0.83063335 1.         0.77394384 0.79206234 0.77879918\n",
      " 0.7492491  0.71311903 0.67528659 0.63800764]\n",
      "7 day output [[0.60245067]]\n",
      "8 day input [0.29498822 0.27140802 0.27859199 0.2967286  0.29616593 0.29451714\n",
      " 0.29951584 0.29747449 0.28425805 0.28216435 0.29039519 0.29344413\n",
      " 0.29930646 0.29958127 0.30370322 0.31557183 0.31678882 0.31922272\n",
      " 0.32212772 0.31555877 0.31104423 0.31376603 0.31258832 0.37147343\n",
      " 0.40870192 0.4081523  0.39311699 0.39153364 0.39141588 0.38930908\n",
      " 0.39475268 0.39442554 0.40667363 0.41839834 0.42049204 0.43089505\n",
      " 0.43722847 0.43222976 0.43646952 0.44015966 0.43730697 0.44977753\n",
      " 0.44022507 0.44364039 0.41512694 0.41944517 0.40973569 0.41283697\n",
      " 0.4110704  0.41752158 0.41926199 0.41511384 0.41163307 0.41885634\n",
      " 0.42361947 0.43580214 0.4408532  0.44998691 0.44829889 0.47853965\n",
      " 0.47525516 0.49378434 0.50803456 0.51006281 0.52789846 0.53578906\n",
      " 0.54323476 0.54250197 0.52198379 0.52673382 0.54234495 0.55902906\n",
      " 0.57019106 0.59311698 0.62331852 0.60918607 0.60501177 0.6661345\n",
      " 0.68322426 0.65781209 0.6512562  0.64734363 0.69536772 0.72462706\n",
      " 0.72808167 0.71842451 0.70952633 0.72114633 0.73958387 0.81786181\n",
      " 0.83063335 1.         0.77394384 0.79206234 0.77879918 0.7492491\n",
      " 0.71311903 0.67528659 0.63800764 0.60245067]\n",
      "8 day output [[0.5693946]]\n",
      "9 day input [0.27140802 0.27859199 0.2967286  0.29616593 0.29451714 0.29951584\n",
      " 0.29747449 0.28425805 0.28216435 0.29039519 0.29344413 0.29930646\n",
      " 0.29958127 0.30370322 0.31557183 0.31678882 0.31922272 0.32212772\n",
      " 0.31555877 0.31104423 0.31376603 0.31258832 0.37147343 0.40870192\n",
      " 0.4081523  0.39311699 0.39153364 0.39141588 0.38930908 0.39475268\n",
      " 0.39442554 0.40667363 0.41839834 0.42049204 0.43089505 0.43722847\n",
      " 0.43222976 0.43646952 0.44015966 0.43730697 0.44977753 0.44022507\n",
      " 0.44364039 0.41512694 0.41944517 0.40973569 0.41283697 0.4110704\n",
      " 0.41752158 0.41926199 0.41511384 0.41163307 0.41885634 0.42361947\n",
      " 0.43580214 0.4408532  0.44998691 0.44829889 0.47853965 0.47525516\n",
      " 0.49378434 0.50803456 0.51006281 0.52789846 0.53578906 0.54323476\n",
      " 0.54250197 0.52198379 0.52673382 0.54234495 0.55902906 0.57019106\n",
      " 0.59311698 0.62331852 0.60918607 0.60501177 0.6661345  0.68322426\n",
      " 0.65781209 0.6512562  0.64734363 0.69536772 0.72462706 0.72808167\n",
      " 0.71842451 0.70952633 0.72114633 0.73958387 0.81786181 0.83063335\n",
      " 1.         0.77394384 0.79206234 0.77879918 0.7492491  0.71311903\n",
      " 0.67528659 0.63800764 0.60245067 0.56939459]\n",
      "9 day output [[0.5394258]]\n",
      "10 day input [0.27859199 0.2967286  0.29616593 0.29451714 0.29951584 0.29747449\n",
      " 0.28425805 0.28216435 0.29039519 0.29344413 0.29930646 0.29958127\n",
      " 0.30370322 0.31557183 0.31678882 0.31922272 0.32212772 0.31555877\n",
      " 0.31104423 0.31376603 0.31258832 0.37147343 0.40870192 0.4081523\n",
      " 0.39311699 0.39153364 0.39141588 0.38930908 0.39475268 0.39442554\n",
      " 0.40667363 0.41839834 0.42049204 0.43089505 0.43722847 0.43222976\n",
      " 0.43646952 0.44015966 0.43730697 0.44977753 0.44022507 0.44364039\n",
      " 0.41512694 0.41944517 0.40973569 0.41283697 0.4110704  0.41752158\n",
      " 0.41926199 0.41511384 0.41163307 0.41885634 0.42361947 0.43580214\n",
      " 0.4408532  0.44998691 0.44829889 0.47853965 0.47525516 0.49378434\n",
      " 0.50803456 0.51006281 0.52789846 0.53578906 0.54323476 0.54250197\n",
      " 0.52198379 0.52673382 0.54234495 0.55902906 0.57019106 0.59311698\n",
      " 0.62331852 0.60918607 0.60501177 0.6661345  0.68322426 0.65781209\n",
      " 0.6512562  0.64734363 0.69536772 0.72462706 0.72808167 0.71842451\n",
      " 0.70952633 0.72114633 0.73958387 0.81786181 0.83063335 1.\n",
      " 0.77394384 0.79206234 0.77879918 0.7492491  0.71311903 0.67528659\n",
      " 0.63800764 0.60245067 0.56939459 0.53942579]\n"
     ]
    },
    {
     "name": "stdout",
     "output_type": "stream",
     "text": [
      "10 day output [[0.51293665]]\n",
      "11 day input [0.2967286  0.29616593 0.29451714 0.29951584 0.29747449 0.28425805\n",
      " 0.28216435 0.29039519 0.29344413 0.29930646 0.29958127 0.30370322\n",
      " 0.31557183 0.31678882 0.31922272 0.32212772 0.31555877 0.31104423\n",
      " 0.31376603 0.31258832 0.37147343 0.40870192 0.4081523  0.39311699\n",
      " 0.39153364 0.39141588 0.38930908 0.39475268 0.39442554 0.40667363\n",
      " 0.41839834 0.42049204 0.43089505 0.43722847 0.43222976 0.43646952\n",
      " 0.44015966 0.43730697 0.44977753 0.44022507 0.44364039 0.41512694\n",
      " 0.41944517 0.40973569 0.41283697 0.4110704  0.41752158 0.41926199\n",
      " 0.41511384 0.41163307 0.41885634 0.42361947 0.43580214 0.4408532\n",
      " 0.44998691 0.44829889 0.47853965 0.47525516 0.49378434 0.50803456\n",
      " 0.51006281 0.52789846 0.53578906 0.54323476 0.54250197 0.52198379\n",
      " 0.52673382 0.54234495 0.55902906 0.57019106 0.59311698 0.62331852\n",
      " 0.60918607 0.60501177 0.6661345  0.68322426 0.65781209 0.6512562\n",
      " 0.64734363 0.69536772 0.72462706 0.72808167 0.71842451 0.70952633\n",
      " 0.72114633 0.73958387 0.81786181 0.83063335 1.         0.77394384\n",
      " 0.79206234 0.77879918 0.7492491  0.71311903 0.67528659 0.63800764\n",
      " 0.60245067 0.56939459 0.53942579 0.51293665]\n",
      "11 day output [[0.49009162]]\n",
      "12 day input [0.29616593 0.29451714 0.29951584 0.29747449 0.28425805 0.28216435\n",
      " 0.29039519 0.29344413 0.29930646 0.29958127 0.30370322 0.31557183\n",
      " 0.31678882 0.31922272 0.32212772 0.31555877 0.31104423 0.31376603\n",
      " 0.31258832 0.37147343 0.40870192 0.4081523  0.39311699 0.39153364\n",
      " 0.39141588 0.38930908 0.39475268 0.39442554 0.40667363 0.41839834\n",
      " 0.42049204 0.43089505 0.43722847 0.43222976 0.43646952 0.44015966\n",
      " 0.43730697 0.44977753 0.44022507 0.44364039 0.41512694 0.41944517\n",
      " 0.40973569 0.41283697 0.4110704  0.41752158 0.41926199 0.41511384\n",
      " 0.41163307 0.41885634 0.42361947 0.43580214 0.4408532  0.44998691\n",
      " 0.44829889 0.47853965 0.47525516 0.49378434 0.50803456 0.51006281\n",
      " 0.52789846 0.53578906 0.54323476 0.54250197 0.52198379 0.52673382\n",
      " 0.54234495 0.55902906 0.57019106 0.59311698 0.62331852 0.60918607\n",
      " 0.60501177 0.6661345  0.68322426 0.65781209 0.6512562  0.64734363\n",
      " 0.69536772 0.72462706 0.72808167 0.71842451 0.70952633 0.72114633\n",
      " 0.73958387 0.81786181 0.83063335 1.         0.77394384 0.79206234\n",
      " 0.77879918 0.7492491  0.71311903 0.67528659 0.63800764 0.60245067\n",
      " 0.56939459 0.53942579 0.51293665 0.49009162]\n",
      "12 day output [[0.4708264]]\n",
      "13 day input [0.29451714 0.29951584 0.29747449 0.28425805 0.28216435 0.29039519\n",
      " 0.29344413 0.29930646 0.29958127 0.30370322 0.31557183 0.31678882\n",
      " 0.31922272 0.32212772 0.31555877 0.31104423 0.31376603 0.31258832\n",
      " 0.37147343 0.40870192 0.4081523  0.39311699 0.39153364 0.39141588\n",
      " 0.38930908 0.39475268 0.39442554 0.40667363 0.41839834 0.42049204\n",
      " 0.43089505 0.43722847 0.43222976 0.43646952 0.44015966 0.43730697\n",
      " 0.44977753 0.44022507 0.44364039 0.41512694 0.41944517 0.40973569\n",
      " 0.41283697 0.4110704  0.41752158 0.41926199 0.41511384 0.41163307\n",
      " 0.41885634 0.42361947 0.43580214 0.4408532  0.44998691 0.44829889\n",
      " 0.47853965 0.47525516 0.49378434 0.50803456 0.51006281 0.52789846\n",
      " 0.53578906 0.54323476 0.54250197 0.52198379 0.52673382 0.54234495\n",
      " 0.55902906 0.57019106 0.59311698 0.62331852 0.60918607 0.60501177\n",
      " 0.6661345  0.68322426 0.65781209 0.6512562  0.64734363 0.69536772\n",
      " 0.72462706 0.72808167 0.71842451 0.70952633 0.72114633 0.73958387\n",
      " 0.81786181 0.83063335 1.         0.77394384 0.79206234 0.77879918\n",
      " 0.7492491  0.71311903 0.67528659 0.63800764 0.60245067 0.56939459\n",
      " 0.53942579 0.51293665 0.49009162 0.47082639]\n",
      "13 day output [[0.4548854]]\n",
      "14 day input [0.29951584 0.29747449 0.28425805 0.28216435 0.29039519 0.29344413\n",
      " 0.29930646 0.29958127 0.30370322 0.31557183 0.31678882 0.31922272\n",
      " 0.32212772 0.31555877 0.31104423 0.31376603 0.31258832 0.37147343\n",
      " 0.40870192 0.4081523  0.39311699 0.39153364 0.39141588 0.38930908\n",
      " 0.39475268 0.39442554 0.40667363 0.41839834 0.42049204 0.43089505\n",
      " 0.43722847 0.43222976 0.43646952 0.44015966 0.43730697 0.44977753\n",
      " 0.44022507 0.44364039 0.41512694 0.41944517 0.40973569 0.41283697\n",
      " 0.4110704  0.41752158 0.41926199 0.41511384 0.41163307 0.41885634\n",
      " 0.42361947 0.43580214 0.4408532  0.44998691 0.44829889 0.47853965\n",
      " 0.47525516 0.49378434 0.50803456 0.51006281 0.52789846 0.53578906\n",
      " 0.54323476 0.54250197 0.52198379 0.52673382 0.54234495 0.55902906\n",
      " 0.57019106 0.59311698 0.62331852 0.60918607 0.60501177 0.6661345\n",
      " 0.68322426 0.65781209 0.6512562  0.64734363 0.69536772 0.72462706\n",
      " 0.72808167 0.71842451 0.70952633 0.72114633 0.73958387 0.81786181\n",
      " 0.83063335 1.         0.77394384 0.79206234 0.77879918 0.7492491\n",
      " 0.71311903 0.67528659 0.63800764 0.60245067 0.56939459 0.53942579\n",
      " 0.51293665 0.49009162 0.47082639 0.45488539]\n",
      "14 day output [[0.44188535]]\n",
      "15 day input [0.29747449 0.28425805 0.28216435 0.29039519 0.29344413 0.29930646\n",
      " 0.29958127 0.30370322 0.31557183 0.31678882 0.31922272 0.32212772\n",
      " 0.31555877 0.31104423 0.31376603 0.31258832 0.37147343 0.40870192\n",
      " 0.4081523  0.39311699 0.39153364 0.39141588 0.38930908 0.39475268\n",
      " 0.39442554 0.40667363 0.41839834 0.42049204 0.43089505 0.43722847\n",
      " 0.43222976 0.43646952 0.44015966 0.43730697 0.44977753 0.44022507\n",
      " 0.44364039 0.41512694 0.41944517 0.40973569 0.41283697 0.4110704\n",
      " 0.41752158 0.41926199 0.41511384 0.41163307 0.41885634 0.42361947\n",
      " 0.43580214 0.4408532  0.44998691 0.44829889 0.47853965 0.47525516\n",
      " 0.49378434 0.50803456 0.51006281 0.52789846 0.53578906 0.54323476\n",
      " 0.54250197 0.52198379 0.52673382 0.54234495 0.55902906 0.57019106\n",
      " 0.59311698 0.62331852 0.60918607 0.60501177 0.6661345  0.68322426\n",
      " 0.65781209 0.6512562  0.64734363 0.69536772 0.72462706 0.72808167\n",
      " 0.71842451 0.70952633 0.72114633 0.73958387 0.81786181 0.83063335\n",
      " 1.         0.77394384 0.79206234 0.77879918 0.7492491  0.71311903\n",
      " 0.67528659 0.63800764 0.60245067 0.56939459 0.53942579 0.51293665\n",
      " 0.49009162 0.47082639 0.45488539 0.44188535]\n",
      "15 day output [[0.43137696]]\n",
      "16 day input [0.28425805 0.28216435 0.29039519 0.29344413 0.29930646 0.29958127\n",
      " 0.30370322 0.31557183 0.31678882 0.31922272 0.32212772 0.31555877\n",
      " 0.31104423 0.31376603 0.31258832 0.37147343 0.40870192 0.4081523\n",
      " 0.39311699 0.39153364 0.39141588 0.38930908 0.39475268 0.39442554\n",
      " 0.40667363 0.41839834 0.42049204 0.43089505 0.43722847 0.43222976\n",
      " 0.43646952 0.44015966 0.43730697 0.44977753 0.44022507 0.44364039\n",
      " 0.41512694 0.41944517 0.40973569 0.41283697 0.4110704  0.41752158\n",
      " 0.41926199 0.41511384 0.41163307 0.41885634 0.42361947 0.43580214\n",
      " 0.4408532  0.44998691 0.44829889 0.47853965 0.47525516 0.49378434\n",
      " 0.50803456 0.51006281 0.52789846 0.53578906 0.54323476 0.54250197\n",
      " 0.52198379 0.52673382 0.54234495 0.55902906 0.57019106 0.59311698\n",
      " 0.62331852 0.60918607 0.60501177 0.6661345  0.68322426 0.65781209\n",
      " 0.6512562  0.64734363 0.69536772 0.72462706 0.72808167 0.71842451\n",
      " 0.70952633 0.72114633 0.73958387 0.81786181 0.83063335 1.\n",
      " 0.77394384 0.79206234 0.77879918 0.7492491  0.71311903 0.67528659\n",
      " 0.63800764 0.60245067 0.56939459 0.53942579 0.51293665 0.49009162\n",
      " 0.47082639 0.45488539 0.44188535 0.43137696]\n",
      "16 day output [[0.4228992]]\n",
      "17 day input [0.28216435 0.29039519 0.29344413 0.29930646 0.29958127 0.30370322\n",
      " 0.31557183 0.31678882 0.31922272 0.32212772 0.31555877 0.31104423\n",
      " 0.31376603 0.31258832 0.37147343 0.40870192 0.4081523  0.39311699\n",
      " 0.39153364 0.39141588 0.38930908 0.39475268 0.39442554 0.40667363\n",
      " 0.41839834 0.42049204 0.43089505 0.43722847 0.43222976 0.43646952\n",
      " 0.44015966 0.43730697 0.44977753 0.44022507 0.44364039 0.41512694\n",
      " 0.41944517 0.40973569 0.41283697 0.4110704  0.41752158 0.41926199\n",
      " 0.41511384 0.41163307 0.41885634 0.42361947 0.43580214 0.4408532\n",
      " 0.44998691 0.44829889 0.47853965 0.47525516 0.49378434 0.50803456\n",
      " 0.51006281 0.52789846 0.53578906 0.54323476 0.54250197 0.52198379\n",
      " 0.52673382 0.54234495 0.55902906 0.57019106 0.59311698 0.62331852\n",
      " 0.60918607 0.60501177 0.6661345  0.68322426 0.65781209 0.6512562\n",
      " 0.64734363 0.69536772 0.72462706 0.72808167 0.71842451 0.70952633\n",
      " 0.72114633 0.73958387 0.81786181 0.83063335 1.         0.77394384\n",
      " 0.79206234 0.77879918 0.7492491  0.71311903 0.67528659 0.63800764\n",
      " 0.60245067 0.56939459 0.53942579 0.51293665 0.49009162 0.47082639\n",
      " 0.45488539 0.44188535 0.43137696 0.42289919]\n",
      "17 day output [[0.4160149]]\n",
      "18 day input [0.29039519 0.29344413 0.29930646 0.29958127 0.30370322 0.31557183\n",
      " 0.31678882 0.31922272 0.32212772 0.31555877 0.31104423 0.31376603\n",
      " 0.31258832 0.37147343 0.40870192 0.4081523  0.39311699 0.39153364\n",
      " 0.39141588 0.38930908 0.39475268 0.39442554 0.40667363 0.41839834\n",
      " 0.42049204 0.43089505 0.43722847 0.43222976 0.43646952 0.44015966\n",
      " 0.43730697 0.44977753 0.44022507 0.44364039 0.41512694 0.41944517\n",
      " 0.40973569 0.41283697 0.4110704  0.41752158 0.41926199 0.41511384\n",
      " 0.41163307 0.41885634 0.42361947 0.43580214 0.4408532  0.44998691\n",
      " 0.44829889 0.47853965 0.47525516 0.49378434 0.50803456 0.51006281\n",
      " 0.52789846 0.53578906 0.54323476 0.54250197 0.52198379 0.52673382\n",
      " 0.54234495 0.55902906 0.57019106 0.59311698 0.62331852 0.60918607\n",
      " 0.60501177 0.6661345  0.68322426 0.65781209 0.6512562  0.64734363\n",
      " 0.69536772 0.72462706 0.72808167 0.71842451 0.70952633 0.72114633\n",
      " 0.73958387 0.81786181 0.83063335 1.         0.77394384 0.79206234\n",
      " 0.77879918 0.7492491  0.71311903 0.67528659 0.63800764 0.60245067\n",
      " 0.56939459 0.53942579 0.51293665 0.49009162 0.47082639 0.45488539\n",
      " 0.44188535 0.43137696 0.42289919 0.41601491]\n",
      "18 day output [[0.41033313]]\n",
      "19 day input [0.29344413 0.29930646 0.29958127 0.30370322 0.31557183 0.31678882\n",
      " 0.31922272 0.32212772 0.31555877 0.31104423 0.31376603 0.31258832\n",
      " 0.37147343 0.40870192 0.4081523  0.39311699 0.39153364 0.39141588\n",
      " 0.38930908 0.39475268 0.39442554 0.40667363 0.41839834 0.42049204\n",
      " 0.43089505 0.43722847 0.43222976 0.43646952 0.44015966 0.43730697\n",
      " 0.44977753 0.44022507 0.44364039 0.41512694 0.41944517 0.40973569\n",
      " 0.41283697 0.4110704  0.41752158 0.41926199 0.41511384 0.41163307\n",
      " 0.41885634 0.42361947 0.43580214 0.4408532  0.44998691 0.44829889\n",
      " 0.47853965 0.47525516 0.49378434 0.50803456 0.51006281 0.52789846\n",
      " 0.53578906 0.54323476 0.54250197 0.52198379 0.52673382 0.54234495\n",
      " 0.55902906 0.57019106 0.59311698 0.62331852 0.60918607 0.60501177\n",
      " 0.6661345  0.68322426 0.65781209 0.6512562  0.64734363 0.69536772\n",
      " 0.72462706 0.72808167 0.71842451 0.70952633 0.72114633 0.73958387\n",
      " 0.81786181 0.83063335 1.         0.77394384 0.79206234 0.77879918\n",
      " 0.7492491  0.71311903 0.67528659 0.63800764 0.60245067 0.56939459\n",
      " 0.53942579 0.51293665 0.49009162 0.47082639 0.45488539 0.44188535\n",
      " 0.43137696 0.42289919 0.41601491 0.41033313]\n"
     ]
    },
    {
     "name": "stdout",
     "output_type": "stream",
     "text": [
      "19 day output [[0.40551955]]\n",
      "20 day input [0.29930646 0.29958127 0.30370322 0.31557183 0.31678882 0.31922272\n",
      " 0.32212772 0.31555877 0.31104423 0.31376603 0.31258832 0.37147343\n",
      " 0.40870192 0.4081523  0.39311699 0.39153364 0.39141588 0.38930908\n",
      " 0.39475268 0.39442554 0.40667363 0.41839834 0.42049204 0.43089505\n",
      " 0.43722847 0.43222976 0.43646952 0.44015966 0.43730697 0.44977753\n",
      " 0.44022507 0.44364039 0.41512694 0.41944517 0.40973569 0.41283697\n",
      " 0.4110704  0.41752158 0.41926199 0.41511384 0.41163307 0.41885634\n",
      " 0.42361947 0.43580214 0.4408532  0.44998691 0.44829889 0.47853965\n",
      " 0.47525516 0.49378434 0.50803456 0.51006281 0.52789846 0.53578906\n",
      " 0.54323476 0.54250197 0.52198379 0.52673382 0.54234495 0.55902906\n",
      " 0.57019106 0.59311698 0.62331852 0.60918607 0.60501177 0.6661345\n",
      " 0.68322426 0.65781209 0.6512562  0.64734363 0.69536772 0.72462706\n",
      " 0.72808167 0.71842451 0.70952633 0.72114633 0.73958387 0.81786181\n",
      " 0.83063335 1.         0.77394384 0.79206234 0.77879918 0.7492491\n",
      " 0.71311903 0.67528659 0.63800764 0.60245067 0.56939459 0.53942579\n",
      " 0.51293665 0.49009162 0.47082639 0.45488539 0.44188535 0.43137696\n",
      " 0.42289919 0.41601491 0.41033313 0.40551955]\n",
      "20 day output [[0.4013001]]\n",
      "21 day input [0.29958127 0.30370322 0.31557183 0.31678882 0.31922272 0.32212772\n",
      " 0.31555877 0.31104423 0.31376603 0.31258832 0.37147343 0.40870192\n",
      " 0.4081523  0.39311699 0.39153364 0.39141588 0.38930908 0.39475268\n",
      " 0.39442554 0.40667363 0.41839834 0.42049204 0.43089505 0.43722847\n",
      " 0.43222976 0.43646952 0.44015966 0.43730697 0.44977753 0.44022507\n",
      " 0.44364039 0.41512694 0.41944517 0.40973569 0.41283697 0.4110704\n",
      " 0.41752158 0.41926199 0.41511384 0.41163307 0.41885634 0.42361947\n",
      " 0.43580214 0.4408532  0.44998691 0.44829889 0.47853965 0.47525516\n",
      " 0.49378434 0.50803456 0.51006281 0.52789846 0.53578906 0.54323476\n",
      " 0.54250197 0.52198379 0.52673382 0.54234495 0.55902906 0.57019106\n",
      " 0.59311698 0.62331852 0.60918607 0.60501177 0.6661345  0.68322426\n",
      " 0.65781209 0.6512562  0.64734363 0.69536772 0.72462706 0.72808167\n",
      " 0.71842451 0.70952633 0.72114633 0.73958387 0.81786181 0.83063335\n",
      " 1.         0.77394384 0.79206234 0.77879918 0.7492491  0.71311903\n",
      " 0.67528659 0.63800764 0.60245067 0.56939459 0.53942579 0.51293665\n",
      " 0.49009162 0.47082639 0.45488539 0.44188535 0.43137696 0.42289919\n",
      " 0.41601491 0.41033313 0.40551955 0.4013001 ]\n",
      "21 day output [[0.3974593]]\n",
      "22 day input [0.30370322 0.31557183 0.31678882 0.31922272 0.32212772 0.31555877\n",
      " 0.31104423 0.31376603 0.31258832 0.37147343 0.40870192 0.4081523\n",
      " 0.39311699 0.39153364 0.39141588 0.38930908 0.39475268 0.39442554\n",
      " 0.40667363 0.41839834 0.42049204 0.43089505 0.43722847 0.43222976\n",
      " 0.43646952 0.44015966 0.43730697 0.44977753 0.44022507 0.44364039\n",
      " 0.41512694 0.41944517 0.40973569 0.41283697 0.4110704  0.41752158\n",
      " 0.41926199 0.41511384 0.41163307 0.41885634 0.42361947 0.43580214\n",
      " 0.4408532  0.44998691 0.44829889 0.47853965 0.47525516 0.49378434\n",
      " 0.50803456 0.51006281 0.52789846 0.53578906 0.54323476 0.54250197\n",
      " 0.52198379 0.52673382 0.54234495 0.55902906 0.57019106 0.59311698\n",
      " 0.62331852 0.60918607 0.60501177 0.6661345  0.68322426 0.65781209\n",
      " 0.6512562  0.64734363 0.69536772 0.72462706 0.72808167 0.71842451\n",
      " 0.70952633 0.72114633 0.73958387 0.81786181 0.83063335 1.\n",
      " 0.77394384 0.79206234 0.77879918 0.7492491  0.71311903 0.67528659\n",
      " 0.63800764 0.60245067 0.56939459 0.53942579 0.51293665 0.49009162\n",
      " 0.47082639 0.45488539 0.44188535 0.43137696 0.42289919 0.41601491\n",
      " 0.41033313 0.40551955 0.4013001  0.3974593 ]\n",
      "22 day output [[0.3938365]]\n",
      "23 day input [0.31557183 0.31678882 0.31922272 0.32212772 0.31555877 0.31104423\n",
      " 0.31376603 0.31258832 0.37147343 0.40870192 0.4081523  0.39311699\n",
      " 0.39153364 0.39141588 0.38930908 0.39475268 0.39442554 0.40667363\n",
      " 0.41839834 0.42049204 0.43089505 0.43722847 0.43222976 0.43646952\n",
      " 0.44015966 0.43730697 0.44977753 0.44022507 0.44364039 0.41512694\n",
      " 0.41944517 0.40973569 0.41283697 0.4110704  0.41752158 0.41926199\n",
      " 0.41511384 0.41163307 0.41885634 0.42361947 0.43580214 0.4408532\n",
      " 0.44998691 0.44829889 0.47853965 0.47525516 0.49378434 0.50803456\n",
      " 0.51006281 0.52789846 0.53578906 0.54323476 0.54250197 0.52198379\n",
      " 0.52673382 0.54234495 0.55902906 0.57019106 0.59311698 0.62331852\n",
      " 0.60918607 0.60501177 0.6661345  0.68322426 0.65781209 0.6512562\n",
      " 0.64734363 0.69536772 0.72462706 0.72808167 0.71842451 0.70952633\n",
      " 0.72114633 0.73958387 0.81786181 0.83063335 1.         0.77394384\n",
      " 0.79206234 0.77879918 0.7492491  0.71311903 0.67528659 0.63800764\n",
      " 0.60245067 0.56939459 0.53942579 0.51293665 0.49009162 0.47082639\n",
      " 0.45488539 0.44188535 0.43137696 0.42289919 0.41601491 0.41033313\n",
      " 0.40551955 0.4013001  0.3974593  0.3938365 ]\n",
      "23 day output [[0.39031905]]\n",
      "24 day input [0.31678882 0.31922272 0.32212772 0.31555877 0.31104423 0.31376603\n",
      " 0.31258832 0.37147343 0.40870192 0.4081523  0.39311699 0.39153364\n",
      " 0.39141588 0.38930908 0.39475268 0.39442554 0.40667363 0.41839834\n",
      " 0.42049204 0.43089505 0.43722847 0.43222976 0.43646952 0.44015966\n",
      " 0.43730697 0.44977753 0.44022507 0.44364039 0.41512694 0.41944517\n",
      " 0.40973569 0.41283697 0.4110704  0.41752158 0.41926199 0.41511384\n",
      " 0.41163307 0.41885634 0.42361947 0.43580214 0.4408532  0.44998691\n",
      " 0.44829889 0.47853965 0.47525516 0.49378434 0.50803456 0.51006281\n",
      " 0.52789846 0.53578906 0.54323476 0.54250197 0.52198379 0.52673382\n",
      " 0.54234495 0.55902906 0.57019106 0.59311698 0.62331852 0.60918607\n",
      " 0.60501177 0.6661345  0.68322426 0.65781209 0.6512562  0.64734363\n",
      " 0.69536772 0.72462706 0.72808167 0.71842451 0.70952633 0.72114633\n",
      " 0.73958387 0.81786181 0.83063335 1.         0.77394384 0.79206234\n",
      " 0.77879918 0.7492491  0.71311903 0.67528659 0.63800764 0.60245067\n",
      " 0.56939459 0.53942579 0.51293665 0.49009162 0.47082639 0.45488539\n",
      " 0.44188535 0.43137696 0.42289919 0.41601491 0.41033313 0.40551955\n",
      " 0.4013001  0.3974593  0.3938365  0.39031905]\n",
      "24 day output [[0.38683698]]\n",
      "25 day input [0.31922272 0.32212772 0.31555877 0.31104423 0.31376603 0.31258832\n",
      " 0.37147343 0.40870192 0.4081523  0.39311699 0.39153364 0.39141588\n",
      " 0.38930908 0.39475268 0.39442554 0.40667363 0.41839834 0.42049204\n",
      " 0.43089505 0.43722847 0.43222976 0.43646952 0.44015966 0.43730697\n",
      " 0.44977753 0.44022507 0.44364039 0.41512694 0.41944517 0.40973569\n",
      " 0.41283697 0.4110704  0.41752158 0.41926199 0.41511384 0.41163307\n",
      " 0.41885634 0.42361947 0.43580214 0.4408532  0.44998691 0.44829889\n",
      " 0.47853965 0.47525516 0.49378434 0.50803456 0.51006281 0.52789846\n",
      " 0.53578906 0.54323476 0.54250197 0.52198379 0.52673382 0.54234495\n",
      " 0.55902906 0.57019106 0.59311698 0.62331852 0.60918607 0.60501177\n",
      " 0.6661345  0.68322426 0.65781209 0.6512562  0.64734363 0.69536772\n",
      " 0.72462706 0.72808167 0.71842451 0.70952633 0.72114633 0.73958387\n",
      " 0.81786181 0.83063335 1.         0.77394384 0.79206234 0.77879918\n",
      " 0.7492491  0.71311903 0.67528659 0.63800764 0.60245067 0.56939459\n",
      " 0.53942579 0.51293665 0.49009162 0.47082639 0.45488539 0.44188535\n",
      " 0.43137696 0.42289919 0.41601491 0.41033313 0.40551955 0.4013001\n",
      " 0.3974593  0.3938365  0.39031905 0.38683698]\n",
      "25 day output [[0.38335353]]\n",
      "26 day input [0.32212772 0.31555877 0.31104423 0.31376603 0.31258832 0.37147343\n",
      " 0.40870192 0.4081523  0.39311699 0.39153364 0.39141588 0.38930908\n",
      " 0.39475268 0.39442554 0.40667363 0.41839834 0.42049204 0.43089505\n",
      " 0.43722847 0.43222976 0.43646952 0.44015966 0.43730697 0.44977753\n",
      " 0.44022507 0.44364039 0.41512694 0.41944517 0.40973569 0.41283697\n",
      " 0.4110704  0.41752158 0.41926199 0.41511384 0.41163307 0.41885634\n",
      " 0.42361947 0.43580214 0.4408532  0.44998691 0.44829889 0.47853965\n",
      " 0.47525516 0.49378434 0.50803456 0.51006281 0.52789846 0.53578906\n",
      " 0.54323476 0.54250197 0.52198379 0.52673382 0.54234495 0.55902906\n",
      " 0.57019106 0.59311698 0.62331852 0.60918607 0.60501177 0.6661345\n",
      " 0.68322426 0.65781209 0.6512562  0.64734363 0.69536772 0.72462706\n",
      " 0.72808167 0.71842451 0.70952633 0.72114633 0.73958387 0.81786181\n",
      " 0.83063335 1.         0.77394384 0.79206234 0.77879918 0.7492491\n",
      " 0.71311903 0.67528659 0.63800764 0.60245067 0.56939459 0.53942579\n",
      " 0.51293665 0.49009162 0.47082639 0.45488539 0.44188535 0.43137696\n",
      " 0.42289919 0.41601491 0.41033313 0.40551955 0.4013001  0.3974593\n",
      " 0.3938365  0.39031905 0.38683698 0.38335353]\n",
      "26 day output [[0.3798595]]\n",
      "27 day input [0.31555877 0.31104423 0.31376603 0.31258832 0.37147343 0.40870192\n",
      " 0.4081523  0.39311699 0.39153364 0.39141588 0.38930908 0.39475268\n",
      " 0.39442554 0.40667363 0.41839834 0.42049204 0.43089505 0.43722847\n",
      " 0.43222976 0.43646952 0.44015966 0.43730697 0.44977753 0.44022507\n",
      " 0.44364039 0.41512694 0.41944517 0.40973569 0.41283697 0.4110704\n",
      " 0.41752158 0.41926199 0.41511384 0.41163307 0.41885634 0.42361947\n",
      " 0.43580214 0.4408532  0.44998691 0.44829889 0.47853965 0.47525516\n",
      " 0.49378434 0.50803456 0.51006281 0.52789846 0.53578906 0.54323476\n",
      " 0.54250197 0.52198379 0.52673382 0.54234495 0.55902906 0.57019106\n",
      " 0.59311698 0.62331852 0.60918607 0.60501177 0.6661345  0.68322426\n",
      " 0.65781209 0.6512562  0.64734363 0.69536772 0.72462706 0.72808167\n",
      " 0.71842451 0.70952633 0.72114633 0.73958387 0.81786181 0.83063335\n",
      " 1.         0.77394384 0.79206234 0.77879918 0.7492491  0.71311903\n",
      " 0.67528659 0.63800764 0.60245067 0.56939459 0.53942579 0.51293665\n",
      " 0.49009162 0.47082639 0.45488539 0.44188535 0.43137696 0.42289919\n",
      " 0.41601491 0.41033313 0.40551955 0.4013001  0.3974593  0.3938365\n",
      " 0.39031905 0.38683698 0.38335353 0.37985951]\n",
      "27 day output [[0.37636435]]\n",
      "28 day input [0.31104423 0.31376603 0.31258832 0.37147343 0.40870192 0.4081523\n",
      " 0.39311699 0.39153364 0.39141588 0.38930908 0.39475268 0.39442554\n",
      " 0.40667363 0.41839834 0.42049204 0.43089505 0.43722847 0.43222976\n",
      " 0.43646952 0.44015966 0.43730697 0.44977753 0.44022507 0.44364039\n",
      " 0.41512694 0.41944517 0.40973569 0.41283697 0.4110704  0.41752158\n",
      " 0.41926199 0.41511384 0.41163307 0.41885634 0.42361947 0.43580214\n",
      " 0.4408532  0.44998691 0.44829889 0.47853965 0.47525516 0.49378434\n",
      " 0.50803456 0.51006281 0.52789846 0.53578906 0.54323476 0.54250197\n",
      " 0.52198379 0.52673382 0.54234495 0.55902906 0.57019106 0.59311698\n",
      " 0.62331852 0.60918607 0.60501177 0.6661345  0.68322426 0.65781209\n",
      " 0.6512562  0.64734363 0.69536772 0.72462706 0.72808167 0.71842451\n",
      " 0.70952633 0.72114633 0.73958387 0.81786181 0.83063335 1.\n",
      " 0.77394384 0.79206234 0.77879918 0.7492491  0.71311903 0.67528659\n",
      " 0.63800764 0.60245067 0.56939459 0.53942579 0.51293665 0.49009162\n",
      " 0.47082639 0.45488539 0.44188535 0.43137696 0.42289919 0.41601491\n",
      " 0.41033313 0.40551955 0.4013001  0.3974593  0.3938365  0.39031905\n",
      " 0.38683698 0.38335353 0.37985951 0.37636435]\n",
      "28 day output [[0.3728906]]\n",
      "29 day input [0.31376603 0.31258832 0.37147343 0.40870192 0.4081523  0.39311699\n",
      " 0.39153364 0.39141588 0.38930908 0.39475268 0.39442554 0.40667363\n",
      " 0.41839834 0.42049204 0.43089505 0.43722847 0.43222976 0.43646952\n",
      " 0.44015966 0.43730697 0.44977753 0.44022507 0.44364039 0.41512694\n",
      " 0.41944517 0.40973569 0.41283697 0.4110704  0.41752158 0.41926199\n",
      " 0.41511384 0.41163307 0.41885634 0.42361947 0.43580214 0.4408532\n",
      " 0.44998691 0.44829889 0.47853965 0.47525516 0.49378434 0.50803456\n",
      " 0.51006281 0.52789846 0.53578906 0.54323476 0.54250197 0.52198379\n",
      " 0.52673382 0.54234495 0.55902906 0.57019106 0.59311698 0.62331852\n",
      " 0.60918607 0.60501177 0.6661345  0.68322426 0.65781209 0.6512562\n",
      " 0.64734363 0.69536772 0.72462706 0.72808167 0.71842451 0.70952633\n",
      " 0.72114633 0.73958387 0.81786181 0.83063335 1.         0.77394384\n",
      " 0.79206234 0.77879918 0.7492491  0.71311903 0.67528659 0.63800764\n",
      " 0.60245067 0.56939459 0.53942579 0.51293665 0.49009162 0.47082639\n",
      " 0.45488539 0.44188535 0.43137696 0.42289919 0.41601491 0.41033313\n",
      " 0.40551955 0.4013001  0.3974593  0.3938365  0.39031905 0.38683698\n",
      " 0.38335353 0.37985951 0.37636435 0.37289059]\n"
     ]
    },
    {
     "name": "stdout",
     "output_type": "stream",
     "text": [
      "29 day output [[0.36946738]]\n",
      "[[0.7739438414573669], [0.7920623421669006], [0.7787991762161255], [0.7492491006851196], [0.7131190299987793], [0.675286591053009], [0.638007640838623], [0.6024506688117981], [0.569394588470459], [0.539425790309906], [0.5129366517066956], [0.49009162187576294], [0.4708263874053955], [0.4548853933811188], [0.4418853521347046], [0.43137696385383606], [0.42289918661117554], [0.4160149097442627], [0.41033312678337097], [0.4055195450782776], [0.4013001024723053], [0.3974592983722687], [0.39383649826049805], [0.3903190493583679], [0.386836975812912], [0.3833535313606262], [0.3798595070838928], [0.3763643503189087], [0.3728905916213989], [0.3694673776626587]]\n"
     ]
    }
   ],
   "source": [
    "# demonstrate prediction for next 10 days\n",
    "from numpy import array\n",
    "\n",
    "lst_output=[]\n",
    "n_steps=100\n",
    "i=0\n",
    "while(i<30):\n",
    "    \n",
    "    if(len(temp_input)>100):\n",
    "        #print(temp_input)\n",
    "        x_input=np.array(temp_input[1:])\n",
    "        print(\"{} day input {}\".format(i,x_input))\n",
    "        x_input=x_input.reshape(1,-1)\n",
    "        x_input = x_input.reshape((1, n_steps, 1))\n",
    "        #print(x_input)\n",
    "        yhat = model.predict(x_input, verbose=0)\n",
    "        print(\"{} day output {}\".format(i,yhat))\n",
    "        temp_input.extend(yhat[0].tolist())\n",
    "        temp_input=temp_input[1:]\n",
    "        #print(temp_input)\n",
    "        lst_output.extend(yhat.tolist())\n",
    "        i=i+1\n",
    "    else:\n",
    "        x_input = x_input.reshape((1, n_steps,1))\n",
    "        yhat = model.predict(x_input, verbose=0)\n",
    "        print(yhat[0])\n",
    "        temp_input.extend(yhat[0].tolist())\n",
    "        print(len(temp_input))\n",
    "        lst_output.extend(yhat.tolist())\n",
    "        i=i+1\n",
    "    \n",
    "\n",
    "print(lst_output)"
   ]
  },
  {
   "cell_type": "code",
   "execution_count": 65,
   "id": "b581ee0d",
   "metadata": {},
   "outputs": [],
   "source": [
    "day_new=np.arange(1,101)\n",
    "day_pred=np.arange(101,131)"
   ]
  },
  {
   "cell_type": "code",
   "execution_count": 66,
   "id": "46d86e91",
   "metadata": {},
   "outputs": [],
   "source": [
    "import matplotlib.pyplot as plt"
   ]
  },
  {
   "cell_type": "code",
   "execution_count": 67,
   "id": "f96f5f7e",
   "metadata": {},
   "outputs": [
    {
     "data": {
      "text/plain": [
       "2416"
      ]
     },
     "execution_count": 67,
     "metadata": {},
     "output_type": "execute_result"
    }
   ],
   "source": [
    "len(df)"
   ]
  },
  {
   "cell_type": "code",
   "execution_count": 68,
   "id": "5db24d90",
   "metadata": {},
   "outputs": [
    {
     "data": {
      "text/plain": [
       "[<matplotlib.lines.Line2D at 0x29657143700>]"
      ]
     },
     "execution_count": 68,
     "metadata": {},
     "output_type": "execute_result"
    },
    {
     "data": {
      "image/png": "[encoded data removed]",
      "text/plain": [
       "<Figure size 432x288 with 1 Axes>"
      ]
     },
     "metadata": {
      "needs_background": "light"
     },
     "output_type": "display_data"
    }
   ],
   "source": [
    "plt.plot(day_new,scaler.inverse_transform(df[2316:]))\n",
    "plt.plot(day_pred,scaler.inverse_transform(lst_output))"
   ]
  },
  {
   "cell_type": "code",
   "execution_count": 69,
   "id": "3adbb803",
   "metadata": {},
   "outputs": [
    {
     "data": {
      "text/plain": [
       "[<matplotlib.lines.Line2D at 0x29659212b50>]"
      ]
     },
     "execution_count": 69,
     "metadata": {},
     "output_type": "execute_result"
    },
    {
     "data": {
      "image/png": "[encoded data removed]",
      "text/plain": [
       "<Figure size 432x288 with 1 Axes>"
      ]
     },
     "metadata": {
      "needs_background": "light"
     },
     "output_type": "display_data"
    }
   ],
   "source": [
    "df3=df.tolist()\n",
    "df3.extend(lst_output)\n",
    "plt.plot(df3[1200:])"
   ]
  },
  {
   "cell_type": "code",
   "execution_count": 71,
   "id": "87c14d07",
   "metadata": {},
   "outputs": [],
   "source": [
    "df3=scaler.inverse_transform(df3).tolist()"
   ]
  },
  {
   "cell_type": "code",
   "execution_count": 70,
   "id": "6423da4a",
   "metadata": {},
   "outputs": [
    {
     "data": {
      "text/plain": [
       "[<matplotlib.lines.Line2D at 0x296592b8d60>]"
      ]
     },
     "execution_count": 70,
     "metadata": {},
     "output_type": "execute_result"
    },
    {
     "data": {
      "image/png": "[encoded data removed]",
      "text/plain": [
       "<Figure size 432x288 with 1 Axes>"
      ]
     },
     "metadata": {
      "needs_background": "light"
     },
     "output_type": "display_data"
    }
   ],
   "source": [
    "plt.plot(df3)"
   ]
  }
 ],
 "metadata": {
  "kernelspec": {
   "display_name": "Python 3 (ipykernel)",
   "language": "python",
   "name": "python3"
  },
  "language_info": {
   "codemirror_mode": {
    "name": "ipython",
    "version": 3
   },
   "file_extension": ".py",
   "mimetype": "text/x-python",
   "name": "python",
   "nbconvert_exporter": "python",
   "pygments_lexer": "ipython3",
   "version": "3.9.7"
  }
 },
 "nbformat": 4,
 "nbformat_minor": 5
}
